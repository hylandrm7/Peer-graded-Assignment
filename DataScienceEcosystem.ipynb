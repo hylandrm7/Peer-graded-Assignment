{
  "nbformat": 4,
  "nbformat_minor": 0,
  "metadata": {
    "colab": {
      "provenance": [],
      "toc_visible": true
    },
    "kernelspec": {
      "name": "python3",
      "display_name": "Python 3"
    },
    "language_info": {
      "name": "python"
    }
  },
  "cells": [
    {
      "cell_type": "code",
      "execution_count": null,
      "metadata": {
        "id": "MDN_uuClJand"
      },
      "outputs": [],
      "source": []
    },
    {
      "cell_type": "markdown",
      "source": [
        "#Data Science Tools and Ecosystem"
      ],
      "metadata": {
        "id": "fCKls1ZtLTGU"
      }
    },
    {
      "cell_type": "markdown",
      "source": [
        "In this notebook, Data Science Tools and Ecosystem are summarized."
      ],
      "metadata": {
        "id": "L1-6zW8ELRp2"
      }
    },
    {
      "cell_type": "markdown",
      "source": [
        "#Data Science Tools and Ecosystem"
      ],
      "metadata": {
        "id": "986ppgoeJgbJ"
      }
    },
    {
      "cell_type": "markdown",
      "source": [
        "In this notebook, Data Science Tools and Ecosystem are summarized."
      ],
      "metadata": {
        "id": "WdVvYEAlJgbJ"
      }
    },
    {
      "cell_type": "markdown",
      "source": [
        "Some of the popular languages that Data Scientists use are:\n",
        "\n",
        "\n",
        "1.   Python\n",
        "2. SQL\n",
        "3. R\n",
        "\n"
      ],
      "metadata": {
        "id": "1XeURUMSJgbJ"
      }
    },
    {
      "cell_type": "markdown",
      "source": [
        "Some of the commonly used libraries used by Data Scientists include:\n",
        "\n",
        "\n",
        "1.  Numpy\n",
        "2.  Pandas\n",
        "3.  Matplotlib\n",
        "\n"
      ],
      "metadata": {
        "id": "YuoujqZTJgbJ"
      }
    },
    {
      "cell_type": "markdown",
      "source": [
        "| Data Science Tools |\n",
        "| ------------------ |\n",
        "| Jupyter Notebook   |\n",
        "| RStudio            |\n",
        "| PyCharm            |\n"
      ],
      "metadata": {
        "id": "FOUq3KtWJgbK"
      }
    },
    {
      "cell_type": "markdown",
      "source": [
        "###Below are a few examples of evaluating arithmetic expressions in Python."
      ],
      "metadata": {
        "id": "39cS1dVsJgbK"
      }
    },
    {
      "cell_type": "code",
      "source": [
        "(3*4)+5\n",
        "#This a simple arithmetic expression to mutiply then add integers"
      ],
      "metadata": {
        "colab": {
          "base_uri": "https://localhost:8080/"
        },
        "outputId": "a8c0e2fe-9521-4b6c-958c-dc97317491ed",
        "id": "EhlTsEDXJgbK"
      },
      "execution_count": null,
      "outputs": [
        {
          "output_type": "execute_result",
          "data": {
            "text/plain": [
              "17"
            ]
          },
          "metadata": {},
          "execution_count": 2
        }
      ]
    },
    {
      "cell_type": "code",
      "source": [
        "200/60\n",
        "#This will convert 200 minutes to hours by diving by 6"
      ],
      "metadata": {
        "id": "T-JmsiOzJgbK"
      },
      "execution_count": null,
      "outputs": []
    },
    {
      "cell_type": "markdown",
      "source": [
        "**Objectives:**\n",
        "\n",
        "\n",
        "*   List popular languages for Data Science.\n",
        "*   Create a table in a markdown cell\n",
        "*   Use code cells to complete simple math \n",
        "*  list the compon data science libraries \n",
        "\n",
        "\n",
        "\n"
      ],
      "metadata": {
        "id": "HCaGMd3OJgbK"
      }
    },
    {
      "cell_type": "markdown",
      "source": [
        "## Author\n",
        "Rachel Hyland"
      ],
      "metadata": {
        "id": "aiUMXKoxQ5yJ"
      }
    }
  ]
}